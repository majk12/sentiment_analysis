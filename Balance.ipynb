{
 "cells": [
  {
   "cell_type": "markdown",
   "metadata": {},
   "source": [
    "# Dataset Subsampling and Visualization\n",
    "- Conduct exploratory visualization on the pre-processed data\n",
    "- Sub-sample the dataset to have equal entries for positive, negative, and neutral reviews in our dataset\n",
    "- Visualize the changes made to create the subsampled balanced dataset"
   ]
  },
  {
   "cell_type": "code",
   "execution_count": 1,
   "metadata": {
    "collapsed": true
   },
   "outputs": [],
   "source": [
    "import csv\n",
    "import numpy as np\n",
    "import pandas as pd\n",
    "import matplotlib.pyplot as plt\n",
    "\n",
    "RANDOM_STATE = 42\n",
    "df = pd.read_csv(\"dataset.csv\", encoding='cp1252')"
   ]
  },
  {
   "cell_type": "markdown",
   "metadata": {},
   "source": [
    "- 48k positive reviews\n",
    "- 16k neutral reviews\n",
    "- 3.4k negative reviews"
   ]
  },
  {
   "cell_type": "code",
   "execution_count": 2,
   "metadata": {
    "collapsed": false
   },
   "outputs": [
    {
     "data": {
      "text/html": [
       "<div>\n",
       "<style scoped>\n",
       "    .dataframe tbody tr th:only-of-type {\n",
       "        vertical-align: middle;\n",
       "    }\n",
       "\n",
       "    .dataframe tbody tr th {\n",
       "        vertical-align: top;\n",
       "    }\n",
       "\n",
       "    .dataframe thead th {\n",
       "        text-align: right;\n",
       "    }\n",
       "</style>\n",
       "<table border=\"1\" class=\"dataframe\">\n",
       "  <thead>\n",
       "    <tr style=\"text-align: right;\">\n",
       "      <th></th>\n",
       "      <th>bookID</th>\n",
       "      <th>title</th>\n",
       "      <th>author</th>\n",
       "      <th>rating</th>\n",
       "      <th>ratingsCount</th>\n",
       "      <th>reviewsCount</th>\n",
       "      <th>reviewerName</th>\n",
       "      <th>reviewerRatings</th>\n",
       "      <th>review</th>\n",
       "    </tr>\n",
       "    <tr>\n",
       "      <th>label</th>\n",
       "      <th></th>\n",
       "      <th></th>\n",
       "      <th></th>\n",
       "      <th></th>\n",
       "      <th></th>\n",
       "      <th></th>\n",
       "      <th></th>\n",
       "      <th></th>\n",
       "      <th></th>\n",
       "    </tr>\n",
       "  </thead>\n",
       "  <tbody>\n",
       "    <tr>\n",
       "      <th>-1</th>\n",
       "      <td>3434</td>\n",
       "      <td>3426</td>\n",
       "      <td>3431</td>\n",
       "      <td>3434</td>\n",
       "      <td>3434</td>\n",
       "      <td>3434</td>\n",
       "      <td>3403</td>\n",
       "      <td>3434</td>\n",
       "      <td>3434</td>\n",
       "    </tr>\n",
       "    <tr>\n",
       "      <th>0</th>\n",
       "      <td>16384</td>\n",
       "      <td>16354</td>\n",
       "      <td>16348</td>\n",
       "      <td>16384</td>\n",
       "      <td>16384</td>\n",
       "      <td>16384</td>\n",
       "      <td>16197</td>\n",
       "      <td>16384</td>\n",
       "      <td>16384</td>\n",
       "    </tr>\n",
       "    <tr>\n",
       "      <th>1</th>\n",
       "      <td>48622</td>\n",
       "      <td>48498</td>\n",
       "      <td>48464</td>\n",
       "      <td>48622</td>\n",
       "      <td>48622</td>\n",
       "      <td>48622</td>\n",
       "      <td>48185</td>\n",
       "      <td>48622</td>\n",
       "      <td>48622</td>\n",
       "    </tr>\n",
       "  </tbody>\n",
       "</table>\n",
       "</div>"
      ],
      "text/plain": [
       "       bookID  title  author  rating  ratingsCount  reviewsCount  \\\n",
       "label                                                              \n",
       "-1       3434   3426    3431    3434          3434          3434   \n",
       " 0      16384  16354   16348   16384         16384         16384   \n",
       " 1      48622  48498   48464   48622         48622         48622   \n",
       "\n",
       "       reviewerName  reviewerRatings  review  \n",
       "label                                         \n",
       "-1             3403             3434    3434  \n",
       " 0            16197            16384   16384  \n",
       " 1            48185            48622   48622  "
      ]
     },
     "execution_count": 2,
     "metadata": {},
     "output_type": "execute_result"
    }
   ],
   "source": [
    "df.groupby('label').count()"
   ]
  },
  {
   "cell_type": "markdown",
   "metadata": {},
   "source": [
    "## Visualize\n",
    "The pie plot demonstrates that positive reviews make up 71.04% of the data"
   ]
  },
  {
   "cell_type": "code",
   "execution_count": 3,
   "metadata": {
    "collapsed": false
   },
   "outputs": [],
   "source": [
    "fig, ax = plt.subplots()\n",
    "ax.set_title('Percentage of Reviews in Each Category')\n",
    "bp = df.groupby('label').count()['review'].plot(kind='pie',autopct='%.2f', ax=ax)\n",
    "plt.show()"
   ]
  },
  {
   "cell_type": "markdown",
   "metadata": {},
   "source": [
    "## Subsample the data \n",
    "- Idea: each label needs to be represented equally\n",
    "- Create seperate dataframes filled with positive, negative, and neutral values\n",
    "- To balance the dataset we will randomly select 3300 values of each data frame"
   ]
  },
  {
   "cell_type": "code",
   "execution_count": 4,
   "metadata": {
    "collapsed": true
   },
   "outputs": [],
   "source": [
    "df_pos = df[df['label']==1]\n",
    "df_neutral = df[df['label']==0]\n",
    "df_neg = df[df['label']==-1]\n",
    "\n",
    "df_neg_sampled = df_neg.sample(3300, random_state=RANDOM_STATE)\n",
    "df_pos_sampled = df_pos.sample(3300, random_state=RANDOM_STATE)\n",
    "df_neutral_sampled = df_neutral.sample(3300, random_state=RANDOM_STATE)"
   ]
  },
  {
   "cell_type": "markdown",
   "metadata": {},
   "source": [
    "Combine them into one dataframe where each label is represented equally"
   ]
  },
  {
   "cell_type": "code",
   "execution_count": 5,
   "metadata": {
    "collapsed": false
   },
   "outputs": [
    {
     "data": {
      "text/html": [
       "<div>\n",
       "<style scoped>\n",
       "    .dataframe tbody tr th:only-of-type {\n",
       "        vertical-align: middle;\n",
       "    }\n",
       "\n",
       "    .dataframe tbody tr th {\n",
       "        vertical-align: top;\n",
       "    }\n",
       "\n",
       "    .dataframe thead th {\n",
       "        text-align: right;\n",
       "    }\n",
       "</style>\n",
       "<table border=\"1\" class=\"dataframe\">\n",
       "  <thead>\n",
       "    <tr style=\"text-align: right;\">\n",
       "      <th></th>\n",
       "      <th>bookID</th>\n",
       "      <th>title</th>\n",
       "      <th>author</th>\n",
       "      <th>rating</th>\n",
       "      <th>ratingsCount</th>\n",
       "      <th>reviewsCount</th>\n",
       "      <th>reviewerName</th>\n",
       "      <th>reviewerRatings</th>\n",
       "      <th>review</th>\n",
       "    </tr>\n",
       "    <tr>\n",
       "      <th>label</th>\n",
       "      <th></th>\n",
       "      <th></th>\n",
       "      <th></th>\n",
       "      <th></th>\n",
       "      <th></th>\n",
       "      <th></th>\n",
       "      <th></th>\n",
       "      <th></th>\n",
       "      <th></th>\n",
       "    </tr>\n",
       "  </thead>\n",
       "  <tbody>\n",
       "    <tr>\n",
       "      <th>-1</th>\n",
       "      <td>3300</td>\n",
       "      <td>3292</td>\n",
       "      <td>3297</td>\n",
       "      <td>3300</td>\n",
       "      <td>3300</td>\n",
       "      <td>3300</td>\n",
       "      <td>3271</td>\n",
       "      <td>3300</td>\n",
       "      <td>3300</td>\n",
       "    </tr>\n",
       "    <tr>\n",
       "      <th>0</th>\n",
       "      <td>3300</td>\n",
       "      <td>3298</td>\n",
       "      <td>3297</td>\n",
       "      <td>3300</td>\n",
       "      <td>3300</td>\n",
       "      <td>3300</td>\n",
       "      <td>3259</td>\n",
       "      <td>3300</td>\n",
       "      <td>3300</td>\n",
       "    </tr>\n",
       "    <tr>\n",
       "      <th>1</th>\n",
       "      <td>3300</td>\n",
       "      <td>3292</td>\n",
       "      <td>3290</td>\n",
       "      <td>3300</td>\n",
       "      <td>3300</td>\n",
       "      <td>3300</td>\n",
       "      <td>3275</td>\n",
       "      <td>3300</td>\n",
       "      <td>3300</td>\n",
       "    </tr>\n",
       "  </tbody>\n",
       "</table>\n",
       "</div>"
      ],
      "text/plain": [
       "       bookID  title  author  rating  ratingsCount  reviewsCount  \\\n",
       "label                                                              \n",
       "-1       3300   3292    3297    3300          3300          3300   \n",
       " 0       3300   3298    3297    3300          3300          3300   \n",
       " 1       3300   3292    3290    3300          3300          3300   \n",
       "\n",
       "       reviewerName  reviewerRatings  review  \n",
       "label                                         \n",
       "-1             3271             3300    3300  \n",
       " 0             3259             3300    3300  \n",
       " 1             3275             3300    3300  "
      ]
     },
     "execution_count": 5,
     "metadata": {},
     "output_type": "execute_result"
    }
   ],
   "source": [
    "frames = [df_neg_sampled, df_pos_sampled, df_neutral_sampled]\n",
    "result = pd.concat(frames)\n",
    "result.groupby('label').count()"
   ]
  },
  {
   "cell_type": "markdown",
   "metadata": {},
   "source": [
    "Write our balanced data to a csv file"
   ]
  },
  {
   "cell_type": "code",
   "execution_count": 6,
   "metadata": {
    "collapsed": true
   },
   "outputs": [],
   "source": [
    "result.to_csv('balanced_dataset.csv', encoding='utf-8', index=False)"
   ]
  },
  {
   "cell_type": "markdown",
   "metadata": {},
   "source": [
    "## Visualize the sub-sampled data\n",
    "The pie plot now shows that every label is represented equally"
   ]
  },
  {
   "cell_type": "code",
   "execution_count": 7,
   "metadata": {
    "collapsed": true
   },
   "outputs": [],
   "source": [
    "df_balanced = pd.read_csv(\"balanced_dataset.csv\")\n",
    "fig, ax = plt.subplots()\n",
    "ax.set_title('Percentage of Reviews in Each Category After Subsampling')\n",
    "bp = df_balanced.groupby('label').count()['review'].plot(kind='pie',autopct='%.2f', ax=ax)\n",
    "plt.show()"
   ]
  }
 ],
 "metadata": {
  "kernelspec": {
   "display_name": "Python [Root]",
   "language": "python",
   "name": "Python [Root]"
  },
  "language_info": {
   "codemirror_mode": {
    "name": "ipython",
    "version": 3
   },
   "file_extension": ".py",
   "mimetype": "text/x-python",
   "name": "python",
   "nbconvert_exporter": "python",
   "pygments_lexer": "ipython3",
   "version": "3.5.2"
  }
 },
 "nbformat": 4,
 "nbformat_minor": 0
}
