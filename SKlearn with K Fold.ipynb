{
 "cells": [
  {
   "cell_type": "markdown",
   "metadata": {},
   "source": [
    "# SKLearn Multinomial Naive Bayes Classifier"
   ]
  },
  {
   "cell_type": "code",
   "execution_count": 1,
   "metadata": {
    "collapsed": true
   },
   "outputs": [],
   "source": [
    "import csv\n",
    "import numpy as np\n",
    "import pandas as pd\n",
    "import matplotlib.pyplot as plt\n",
    "from sklearn.model_selection import KFold\n",
    "from sklearn.naive_bayes import MultinomialNB\n",
    "from sklearn.feature_extraction.text import CountVectorizer\n",
    "from sklearn import metrics\n",
    "\n",
    "result = pd.read_csv(\"balanced_dataset.csv\")\n",
    "RANDOM_STATE = 42"
   ]
  },
  {
   "cell_type": "markdown",
   "metadata": {},
   "source": [
    "### K-fold cross validation\n",
    "---\n",
    "\n",
    "Split the data into k sections or 'folds'. The model runs k times. Each fold is used once as testing while the others form the training set. An average accuracy is caluclated from the accurracies from the k runs.\n",
    "\n",
    "---\n",
    "We will run the k-fold cross validation 3 times for a total of 12 runs.\n",
    "\n",
    "K-folds | Number of Runs | Train Data | Test Data\n",
    "-----|-----|-----|-----\n",
    "3 | 3 | 66% | 33%\n",
    "4 | 4 | 75% | 25%\n",
    "5 | 5 | 80% | 20%"
   ]
  },
  {
   "cell_type": "code",
   "execution_count": 2,
   "metadata": {
    "collapsed": true
   },
   "outputs": [],
   "source": [
    "split_list = [3, 4, 5]"
   ]
  },
  {
   "cell_type": "markdown",
   "metadata": {},
   "source": [
    "### Set X and y\n",
    "- X is the text reviews\n",
    "- y is the positive, neutral, or negative labels"
   ]
  },
  {
   "cell_type": "code",
   "execution_count": 3,
   "metadata": {
    "collapsed": true
   },
   "outputs": [],
   "source": [
    "X = result['review']\n",
    "y = result['label']"
   ]
  },
  {
   "cell_type": "markdown",
   "metadata": {},
   "source": [
    "### Create the Vectorizer"
   ]
  },
  {
   "cell_type": "code",
   "execution_count": 4,
   "metadata": {
    "collapsed": true
   },
   "outputs": [],
   "source": [
    "vectorizer = CountVectorizer(stop_words='english')"
   ]
  },
  {
   "cell_type": "markdown",
   "metadata": {},
   "source": [
    "### Run the model\n",
    "- It will run for a total of 12 times\n",
    "- Each time will compute an accuracy\n",
    "- For each value of k, an average accuracy will be computed\n",
    "- It will produce a graph of the average accuracies along with the standard deviation for each set of k runs"
   ]
  },
  {
   "cell_type": "code",
   "execution_count": 5,
   "metadata": {
    "collapsed": false
   },
   "outputs": [
    {
     "name": "stdout",
     "output_type": "stream",
     "text": [
      "K =  3\n",
      "Area Under Curve: 0.7133880842009334\n",
      "Area Under Curve: 0.7098642317118737\n",
      "Area Under Curve: 0.707854104104104\n",
      "Average accuracy with  3  splits:  0.710368806672 \n",
      "\n",
      "K =  4\n",
      "Area Under Curve: 0.7098791785540476\n",
      "Area Under Curve: 0.726765503530861\n",
      "Area Under Curve: 0.7095319110006744\n",
      "Area Under Curve: 0.7068167027716117\n",
      "Average accuracy with  4  splits:  0.713248323964 \n",
      "\n",
      "K =  5\n",
      "Area Under Curve: 0.7177976443876826\n",
      "Area Under Curve: 0.7246980089543956\n",
      "Area Under Curve: 0.7144189833072725\n",
      "Area Under Curve: 0.7146984954837026\n",
      "Area Under Curve: 0.7183999981358478\n",
      "Average accuracy with  5  splits:  0.718002626054 \n",
      "\n"
     ]
    }
   ],
   "source": [
    "fig, ax = plt.subplots()\n",
    "ax.set_xlabel(\"Values of K\")\n",
    "ax.set_ylabel(\"AUC\")\n",
    "ax.set_title(\"Mean Accuracy and Standard Deviation per K\")\n",
    "for s in split_list:\n",
    "    auc_list = []\n",
    "    print(\"K = \", s)\n",
    "    kf = KFold(n_splits=s, shuffle=True, random_state=RANDOM_STATE)\n",
    "    for train_ind, test_ind in kf.split(X):\n",
    "        # Split X and y on the index given by the KFold\n",
    "        X_train, X_test = X[train_ind], X[test_ind]\n",
    "        y_train, y_test = y[train_ind], y[test_ind]\n",
    "        # Generate the text counts using the vectorizer\n",
    "        train_features = vectorizer.fit_transform([r for r in X_train])\n",
    "        test_features = vectorizer.transform([r for r in X_test])\n",
    "        # Fit model to the training data\n",
    "        nb = MultinomialNB()\n",
    "        nb.fit(train_features, [int(r) for r in y_train])\n",
    "        # Predict classifications for test features\n",
    "        predictions = nb.predict(test_features)\n",
    "        # Compute the accuracy.\n",
    "        actual = [int(r) for r in y_test]\n",
    "        fpr, tpr, thresholds = metrics.roc_curve(actual, predictions, pos_label=1)\n",
    "        current_auc = metrics.auc(fpr, tpr)\n",
    "        # Add current auc to list\n",
    "        auc_list.append(current_auc)\n",
    "        print(\"Area Under Curve: {0}\".format(current_auc))\n",
    "    np_out = np.array(auc_list)\n",
    "    avg = np.mean(np_out)\n",
    "    std = np.std(np_out)\n",
    "    ax.scatter(s, avg)\n",
    "    ax.errorbar(s, avg, yerr=std)\n",
    "    print(\"Average accuracy with \", s, \" splits: \", avg, \"\\n\")\n",
    "plt.show()"
   ]
  }
 ],
 "metadata": {
  "kernelspec": {
   "display_name": "Python [Root]",
   "language": "python",
   "name": "Python [Root]"
  },
  "language_info": {
   "codemirror_mode": {
    "name": "ipython",
    "version": 3
   },
   "file_extension": ".py",
   "mimetype": "text/x-python",
   "name": "python",
   "nbconvert_exporter": "python",
   "pygments_lexer": "ipython3",
   "version": "3.5.2"
  }
 },
 "nbformat": 4,
 "nbformat_minor": 0
}
