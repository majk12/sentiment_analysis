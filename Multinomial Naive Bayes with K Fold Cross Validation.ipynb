{
 "cells": [
  {
   "cell_type": "code",
   "execution_count": 1,
   "metadata": {
    "collapsed": true
   },
   "outputs": [],
   "source": [
    "import csv\n",
    "import numpy as np\n",
    "import pandas as pd\n",
    "from sklearn.model_selection import train_test_split, KFold\n",
    "from sklearn.naive_bayes import MultinomialNB\n",
    "from sklearn.feature_extraction.text import CountVectorizer\n",
    "from sklearn import metrics"
   ]
  },
  {
   "cell_type": "code",
   "execution_count": 2,
   "metadata": {
    "collapsed": true
   },
   "outputs": [],
   "source": [
    "result = pd.read_csv(\"balanced_dataset.csv\")"
   ]
  },
  {
   "cell_type": "markdown",
   "metadata": {},
   "source": [
    "# Task: K-fold cross validation"
   ]
  },
  {
   "cell_type": "markdown",
   "metadata": {},
   "source": [
    "---\n",
    "\n",
    "Idea: Split the data into k sections or 'folds'. The model runs k times. Each fold is used once as validation while the others form the training set. The accuracy is the average of all the tests.\n",
    "\n",
    "---"
   ]
  },
  {
   "cell_type": "code",
   "execution_count": 3,
   "metadata": {
    "collapsed": true
   },
   "outputs": [],
   "source": [
    "RANDOM_STATE = 42"
   ]
  },
  {
   "cell_type": "code",
   "execution_count": 4,
   "metadata": {
    "collapsed": true
   },
   "outputs": [],
   "source": [
    "SPLITS = 3"
   ]
  },
  {
   "cell_type": "code",
   "execution_count": 5,
   "metadata": {
    "collapsed": true
   },
   "outputs": [],
   "source": [
    "kf = KFold(n_splits=SPLITS, shuffle=True, random_state=RANDOM_STATE)"
   ]
  },
  {
   "cell_type": "code",
   "execution_count": 6,
   "metadata": {
    "collapsed": true
   },
   "outputs": [],
   "source": [
    "X = result['review']\n",
    "y = result['label']"
   ]
  },
  {
   "cell_type": "markdown",
   "metadata": {},
   "source": [
    "## For the Hard Coded Naive Bayes"
   ]
  },
  {
   "cell_type": "code",
   "execution_count": 7,
   "metadata": {
    "collapsed": true
   },
   "outputs": [],
   "source": [
    "running_avg = 0\n",
    "for train_ind, test_ind in kf.split(X):\n",
    "    train_df = result.iloc[train_ind, :]\n",
    "    test_df = result.iloc[test_ind, :]\n",
    "    train_df.to_csv('train.csv', encoding='utf-8', index=False)\n",
    "    test_df.to_csv('test.csv', encoding='utf-8', index=False)\n",
    "    #MODEL GOES HERE"
   ]
  },
  {
   "cell_type": "markdown",
   "metadata": {},
   "source": [
    "## For the SKLearn Multi Nomial Naive Bayes"
   ]
  },
  {
   "cell_type": "markdown",
   "metadata": {},
   "source": [
    "### Create the Vectorizer"
   ]
  },
  {
   "cell_type": "code",
   "execution_count": 8,
   "metadata": {
    "collapsed": true
   },
   "outputs": [],
   "source": [
    "vectorizer = CountVectorizer(stop_words='english')"
   ]
  },
  {
   "cell_type": "markdown",
   "metadata": {},
   "source": [
    "### We run the model in the loop\n",
    "- Note: this model is in progress"
   ]
  },
  {
   "cell_type": "code",
   "execution_count": 9,
   "metadata": {
    "collapsed": false
   },
   "outputs": [
    {
     "name": "stdout",
     "output_type": "stream",
     "text": [
      "Multinomial naive bayes AUC: 0.7000706744418634\n",
      "Multinomial naive bayes AUC: 0.7015808465295192\n",
      "Multinomial naive bayes AUC: 0.722141168910934\n",
      "Average accuracy:  0.707930896627\n"
     ]
    }
   ],
   "source": [
    "running_avg = 0\n",
    "for train_ind, test_ind in kf.split(X):\n",
    "    # Split X and y on the index given by the KFold\n",
    "    X_train, X_test = X[train_ind], X[test_ind]\n",
    "    y_train, y_test = y[train_ind], y[test_ind]\n",
    "    # Generate the text counts using the vectorizer\n",
    "    train_features = vectorizer.fit_transform([r for r in X_train])\n",
    "    test_features = vectorizer.transform([r for r in X_test])\n",
    "    # Fit a naive bayes model to the training data.\n",
    "    nb = MultinomialNB()\n",
    "    nb.fit(train_features, [int(r) for r in y_train])\n",
    "    # Now we can use the model to predict classifications for our test features.\n",
    "    predictions = nb.predict(test_features)\n",
    "    # Compute the accuracy.\n",
    "    actual = [int(r) for r in y_test]\n",
    "    fpr, tpr, thresholds = metrics.roc_curve(actual, predictions, pos_label=1)\n",
    "    running_avg = running_avg + metrics.auc(fpr, tpr)\n",
    "    print(\"Multinomial naive bayes AUC: {0}\".format(metrics.auc(fpr, tpr)))\n",
    "avg_accuracy = running_avg/SPLITS\n",
    "print(\"Average accuracy: \", avg_accuracy)"
   ]
  }
 ],
 "metadata": {
  "kernelspec": {
   "display_name": "Python [Root]",
   "language": "python",
   "name": "Python [Root]"
  },
  "language_info": {
   "codemirror_mode": {
    "name": "ipython",
    "version": 3
   },
   "file_extension": ".py",
   "mimetype": "text/x-python",
   "name": "python",
   "nbconvert_exporter": "python",
   "pygments_lexer": "ipython3",
   "version": "3.5.2"
  }
 },
 "nbformat": 4,
 "nbformat_minor": 0
}
