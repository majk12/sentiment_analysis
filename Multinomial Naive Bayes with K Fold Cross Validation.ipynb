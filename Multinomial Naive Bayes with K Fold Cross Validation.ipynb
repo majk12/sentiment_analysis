{
 "cells": [
  {
   "cell_type": "code",
   "execution_count": 1,
   "metadata": {
    "collapsed": true
   },
   "outputs": [],
   "source": [
    "import csv\n",
    "import numpy as np\n",
    "import pandas as pd\n",
    "import matplotlib.pyplot as plt\n",
    "from sklearn.model_selection import KFold\n",
    "from sklearn.naive_bayes import MultinomialNB\n",
    "from sklearn.feature_extraction.text import CountVectorizer\n",
    "from sklearn import metrics"
   ]
  },
  {
   "cell_type": "code",
   "execution_count": 2,
   "metadata": {
    "collapsed": true
   },
   "outputs": [],
   "source": [
    "result = pd.read_csv(\"balanced_dataset.csv\")"
   ]
  },
  {
   "cell_type": "markdown",
   "metadata": {},
   "source": [
    "# K-fold cross validation"
   ]
  },
  {
   "cell_type": "markdown",
   "metadata": {},
   "source": [
    "---\n",
    "\n",
    "Idea: Split the data into k sections or 'folds'. The model runs k times. Each fold is used once as validation while the others form the training set. The accuracy is the average of all the tests.\n",
    "\n",
    "---"
   ]
  },
  {
   "cell_type": "markdown",
   "metadata": {},
   "source": [
    "## SKLearn Multinomial Naive Bayes"
   ]
  },
  {
   "cell_type": "code",
   "execution_count": 3,
   "metadata": {
    "collapsed": true
   },
   "outputs": [],
   "source": [
    "RANDOM_STATE = 42"
   ]
  },
  {
   "cell_type": "markdown",
   "metadata": {},
   "source": [
    "### We will run the k-fold cross validation 3 times\n",
    "\n",
    "K-folds | Number of Runs | Train Data | Test Data\n",
    "-----|-----|-----|-----\n",
    "3 | 3 | 66% | 33%\n",
    "4 | 4 | 75% | 25%\n",
    "5 | 5 | 80% | 20%"
   ]
  },
  {
   "cell_type": "code",
   "execution_count": 4,
   "metadata": {
    "collapsed": true
   },
   "outputs": [],
   "source": [
    "split_list = [3, 4, 5]"
   ]
  },
  {
   "cell_type": "markdown",
   "metadata": {},
   "source": [
    "### Set X and y\n",
    "- X is the text reviews\n",
    "- y is the positive, neutral, or negative labels"
   ]
  },
  {
   "cell_type": "code",
   "execution_count": 5,
   "metadata": {
    "collapsed": true
   },
   "outputs": [],
   "source": [
    "X = result['review']\n",
    "y = result['label']"
   ]
  },
  {
   "cell_type": "markdown",
   "metadata": {},
   "source": [
    "### Create the Vectorizer"
   ]
  },
  {
   "cell_type": "code",
   "execution_count": 6,
   "metadata": {
    "collapsed": true
   },
   "outputs": [],
   "source": [
    "vectorizer = CountVectorizer(stop_words='english')"
   ]
  },
  {
   "cell_type": "markdown",
   "metadata": {},
   "source": [
    "### We run the model in the loop"
   ]
  },
  {
   "cell_type": "code",
   "execution_count": 7,
   "metadata": {
    "collapsed": false
   },
   "outputs": [
    {
     "name": "stdout",
     "output_type": "stream",
     "text": [
      "K =  3\n",
      "Area Under Curve: 0.7000706744418634\n",
      "Area Under Curve: 0.7015808465295192\n",
      "Area Under Curve: 0.722141168910934\n",
      "Average accuracy with  3  splits:  0.707930896627 \n",
      "\n",
      "K =  4\n",
      "Area Under Curve: 0.7007299140394527\n",
      "Area Under Curve: 0.7053729775569522\n",
      "Area Under Curve: 0.7141166994809379\n",
      "Area Under Curve: 0.7235998717514764\n",
      "Average accuracy with  4  splits:  0.710954865707 \n",
      "\n",
      "K =  5\n",
      "Area Under Curve: 0.6984328315748425\n",
      "Area Under Curve: 0.7213039171443699\n",
      "Area Under Curve: 0.7048253470667264\n",
      "Area Under Curve: 0.7221744636202467\n",
      "Area Under Curve: 0.7215223100720008\n",
      "Average accuracy with  5  splits:  0.713651773896 \n",
      "\n"
     ]
    }
   ],
   "source": [
    "fig, ax = plt.subplots()\n",
    "ax.set_xlabel(\"K\")\n",
    "ax.set_ylabel(\"AUC\")\n",
    "ax.set_title(\"Accuracy Mean and Standard Deviation\")\n",
    "for s in split_list:\n",
    "    auc_list = []\n",
    "    print(\"K = \", s)\n",
    "    kf = KFold(n_splits=s, shuffle=True, random_state=RANDOM_STATE)\n",
    "    for train_ind, test_ind in kf.split(X):\n",
    "        # Split X and y on the index given by the KFold\n",
    "        X_train, X_test = X[train_ind], X[test_ind]\n",
    "        y_train, y_test = y[train_ind], y[test_ind]\n",
    "        # Generate the text counts using the vectorizer\n",
    "        train_features = vectorizer.fit_transform([r for r in X_train])\n",
    "        test_features = vectorizer.transform([r for r in X_test])\n",
    "        # Fit model to the training data\n",
    "        nb = MultinomialNB()\n",
    "        nb.fit(train_features, [int(r) for r in y_train])\n",
    "        # Predict classifications for test features\n",
    "        predictions = nb.predict(test_features)\n",
    "        # Compute the accuracy.\n",
    "        actual = [int(r) for r in y_test]\n",
    "        fpr, tpr, thresholds = metrics.roc_curve(actual, predictions, pos_label=1)\n",
    "        current_auc = metrics.auc(fpr, tpr)\n",
    "        # Add current auc to list\n",
    "        auc_list.append(current_auc)\n",
    "        print(\"Area Under Curve: {0}\".format(current_auc))\n",
    "    np_out = np.array(auc_list)\n",
    "    avg = np.mean(np_out)\n",
    "    std = np.std(np_out)\n",
    "    ax.scatter(s, avg)\n",
    "    ax.errorbar(s, avg, yerr=std)\n",
    "    print(\"Average accuracy with \", s, \" splits: \", avg, \"\\n\")\n",
    "plt.show()"
   ]
  }
 ],
 "metadata": {
  "kernelspec": {
   "display_name": "Python [Root]",
   "language": "python",
   "name": "Python [Root]"
  },
  "language_info": {
   "codemirror_mode": {
    "name": "ipython",
    "version": 3
   },
   "file_extension": ".py",
   "mimetype": "text/x-python",
   "name": "python",
   "nbconvert_exporter": "python",
   "pygments_lexer": "ipython3",
   "version": "3.5.2"
  }
 },
 "nbformat": 4,
 "nbformat_minor": 0
}
